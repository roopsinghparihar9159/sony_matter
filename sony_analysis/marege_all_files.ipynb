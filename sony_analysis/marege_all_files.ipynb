{
 "cells": [
  {
   "cell_type": "code",
   "execution_count": 3,
   "id": "a95cb5e8",
   "metadata": {},
   "outputs": [],
   "source": [
    "import pandas as pd\n",
    "import os"
   ]
  },
  {
   "cell_type": "code",
   "execution_count": 2,
   "id": "a29b9e2e",
   "metadata": {},
   "outputs": [],
   "source": [
    "# import pandas as pd\n",
    "# files = ['file1.csv', 'file2.csv']\n",
    "# df = pd.DataFrame()\n",
    "# for file in files:\n",
    "#     data = pd.read_csv(file)\n",
    "#     df = pd.concat([df, data], axis=0)\n",
    "# df.to_csv('merged_files.csv', index=False)"
   ]
  },
  {
   "cell_type": "code",
   "execution_count": 6,
   "id": "d41a8112",
   "metadata": {},
   "outputs": [],
   "source": [
    "# file_path = \"C:\\Downloads\\Merge_Files\\csv_files\"\n",
    "# file_list = os.listdir(file_path)"
   ]
  },
  {
   "cell_type": "code",
   "execution_count": 31,
   "id": "cd52eff4",
   "metadata": {},
   "outputs": [],
   "source": [
    "file_path = \"./rai-rawdump/last_days\"\n",
    "file_list = os.listdir(file_path)\n",
    "df = pd.DataFrame()\n",
    "for file_name in file_list:\n",
    "    data = pd.read_csv(\"./rai-rawdump/last_days/\"+file_name)\n",
    "    df = pd.concat([df,data],axis=0)\n",
    "df.to_csv('merged_files_last.csv',index=False)"
   ]
  },
  {
   "cell_type": "code",
   "execution_count": 32,
   "id": "079e7a55",
   "metadata": {},
   "outputs": [
    {
     "data": {
      "text/plain": [
       "(15850, 62)"
      ]
     },
     "execution_count": 32,
     "metadata": {},
     "output_type": "execute_result"
    }
   ],
   "source": [
    "df.shape"
   ]
  },
  {
   "cell_type": "code",
   "execution_count": 22,
   "id": "972a130a",
   "metadata": {},
   "outputs": [
    {
     "data": {
      "text/plain": [
       "casted               1195\n",
       "convivaSessionId     1576\n",
       "chipset                 0\n",
       "bufferStatus           87\n",
       "bitRate              7304\n",
       "                    ...  \n",
       "packName              637\n",
       "playerSource         1635\n",
       "customLog           11897\n",
       "timestamp_fe        11005\n",
       "videoSessionId       1464\n",
       "Length: 62, dtype: int64"
      ]
     },
     "execution_count": 22,
     "metadata": {},
     "output_type": "execute_result"
    }
   ],
   "source": [
    "df.isna().sum()"
   ]
  },
  {
   "cell_type": "code",
   "execution_count": 26,
   "id": "f0e2f364",
   "metadata": {},
   "outputs": [
    {
     "data": {
      "text/plain": [
       "dtype('float64')"
      ]
     },
     "execution_count": 26,
     "metadata": {},
     "output_type": "execute_result"
    }
   ],
   "source": [
    "df['bufferStatus'].dtype"
   ]
  },
  {
   "cell_type": "code",
   "execution_count": 30,
   "id": "809a8644",
   "metadata": {},
   "outputs": [
    {
     "name": "stdout",
     "output_type": "stream",
     "text": [
      "yes\n",
      "yes\n",
      "yes\n",
      "no\n",
      "no\n",
      "no\n",
      "yes\n",
      "yes\n",
      "no\n",
      "yes\n",
      "yes\n",
      "yes\n",
      "yes\n",
      "yes\n",
      "yes\n",
      "yes\n",
      "yes\n",
      "yes\n",
      "yes\n",
      "yes\n",
      "yes\n",
      "yes\n",
      "yes\n",
      "yes\n",
      "no\n",
      "yes\n",
      "yes\n",
      "yes\n",
      "yes\n",
      "yes\n",
      "no\n",
      "yes\n",
      "yes\n",
      "yes\n",
      "yes\n",
      "no\n",
      "yes\n",
      "yes\n",
      "yes\n",
      "yes\n",
      "yes\n",
      "yes\n",
      "yes\n",
      "yes\n",
      "yes\n",
      "yes\n",
      "yes\n",
      "yes\n",
      "yes\n",
      "yes\n",
      "yes\n",
      "yes\n",
      "yes\n",
      "yes\n",
      "yes\n",
      "yes\n",
      "yes\n",
      "yes\n",
      "yes\n",
      "no\n",
      "yes\n",
      "yes\n"
     ]
    }
   ],
   "source": [
    "for col in df.columns:\n",
    "    if df[col].dtype=='object':\n",
    "        print('yes')\n",
    "    else:\n",
    "        print('no')"
   ]
  },
  {
   "cell_type": "code",
   "execution_count": null,
   "id": "1ab71459",
   "metadata": {},
   "outputs": [],
   "source": []
  }
 ],
 "metadata": {
  "kernelspec": {
   "display_name": "Python 3 (ipykernel)",
   "language": "python",
   "name": "python3"
  },
  "language_info": {
   "codemirror_mode": {
    "name": "ipython",
    "version": 3
   },
   "file_extension": ".py",
   "mimetype": "text/x-python",
   "name": "python",
   "nbconvert_exporter": "python",
   "pygments_lexer": "ipython3",
   "version": "3.8.10"
  }
 },
 "nbformat": 4,
 "nbformat_minor": 5
}
